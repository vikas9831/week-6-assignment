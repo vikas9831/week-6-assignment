{
 "cells": [
  {
   "cell_type": "markdown",
   "id": "0ce935b3",
   "metadata": {},
   "source": [
    "# data science tools and ecosystem"
   ]
  },
  {
   "cell_type": "markdown",
   "id": "60d95ffe",
   "metadata": {},
   "source": [
    "In this course will learn about the dada science tools and ecosystem "
   ]
  },
  {
   "cell_type": "markdown",
   "id": "c798d3ad",
   "metadata": {},
   "source": [
    " ### Some popular languages that the data scientists are used:\n",
    " "
   ]
  },
  {
   "cell_type": "markdown",
   "id": "191a6f09",
   "metadata": {},
   "source": [
    "        1.python\n",
    "        2.R\n",
    "        3.SQL\n",
    "        4.C++\n",
    "        5.java"
   ]
  },
  {
   "cell_type": "markdown",
   "id": "b37523e9",
   "metadata": {},
   "source": [
    "### Some libraries that the data scientists are used:\n",
    "    1.tensorflow\n",
    "    2.numpy\n",
    "    3.scipy\n",
    "    4.python\n",
    "    5.matplotlib\n",
    "    6.keras\n",
    "    7.skicit-learn\n",
    "    8.pytorch......etc"
   ]
  },
  {
   "cell_type": "markdown",
   "id": "bad4e58a",
   "metadata": {},
   "source": [
    "|data science tools|\n",
    "|---|\n",
    "|SAS|\n",
    "|Tensorflow|\n",
    "|Apache hadoop|"
   ]
  },
  {
   "cell_type": "markdown",
   "id": "f1a90a6e",
   "metadata": {},
   "source": [
    "### Below are the few examples of arithmetic expressions \n"
   ]
  },
  {
   "cell_type": "markdown",
   "id": "aa030913",
   "metadata": {},
   "source": [
    "    (3*5)*7\n",
    "    200/60"
   ]
  },
  {
   "cell_type": "markdown",
   "id": "59dd6d8a",
   "metadata": {},
   "source": [
    "### code to multiply and add the numbers\n"
   ]
  },
  {
   "cell_type": "code",
   "execution_count": 8,
   "id": "47484f46",
   "metadata": {},
   "outputs": [
    {
     "data": {
      "text/plain": [
       "19"
      ]
     },
     "execution_count": 8,
     "metadata": {},
     "output_type": "execute_result"
    }
   ],
   "source": [
    "(3*4)+7"
   ]
  },
  {
   "cell_type": "markdown",
   "id": "d006cb0b",
   "metadata": {},
   "source": [
    "### code to converting minutes to hours"
   ]
  },
  {
   "cell_type": "code",
   "execution_count": 11,
   "id": "e9a56a40",
   "metadata": {},
   "outputs": [
    {
     "data": {
      "text/plain": [
       "3.3333333333333335"
      ]
     },
     "execution_count": 11,
     "metadata": {},
     "output_type": "execute_result"
    }
   ],
   "source": [
    "# minutes are converting into hours just by dividing by 60\n",
    "200/60"
   ]
  },
  {
   "cell_type": "markdown",
   "id": "dc880b6d",
   "metadata": {},
   "source": [
    "# objectives\n",
    "\n",
    "    *list popular languages for data science\n",
    "    *list polpular libraries for data science\n",
    "    *list of well known data science tools\n",
    "    *how to provide comment in the cell"
   ]
  },
  {
   "cell_type": "markdown",
   "id": "e5161475",
   "metadata": {},
   "source": [
    "# Author\n",
    " Vikash sharma"
   ]
  }
 ],
 "metadata": {
  "kernelspec": {
   "display_name": "Python 3 (ipykernel)",
   "language": "python",
   "name": "python3"
  },
  "language_info": {
   "codemirror_mode": {
    "name": "ipython",
    "version": 3
   },
   "file_extension": ".py",
   "mimetype": "text/x-python",
   "name": "python",
   "nbconvert_exporter": "python",
   "pygments_lexer": "ipython3",
   "version": "3.11.3"
  }
 },
 "nbformat": 4,
 "nbformat_minor": 5
}
